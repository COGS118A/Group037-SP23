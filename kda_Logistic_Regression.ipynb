{
 "cells": [
  {
   "cell_type": "code",
   "execution_count": 1,
   "id": "d9da8713",
   "metadata": {},
   "outputs": [],
   "source": [
    "import pandas as pd\n",
    "from sklearn.model_selection import train_test_split\n",
    "from sklearn.linear_model import LogisticRegression\n",
    "from sklearn.preprocessing import StandardScaler\n",
    "from sklearn.ensemble import HistGradientBoostingClassifier\n",
    "from sklearn.metrics import accuracy_score\n",
    "from sklearn.metrics import confusion_matrix\n",
    "from sklearn.metrics import classification_report\n",
    "import numpy as np\n",
    "import ast\n",
    "import seaborn as sns\n",
    "import matplotlib.pyplot as plt\n",
    "\n",
    "# load data\n",
    "data = pd.read_csv(\"LeagueofLegends.csv\")"
   ]
  },
  {
   "cell_type": "code",
   "execution_count": 2,
   "id": "52e4f680",
   "metadata": {},
   "outputs": [],
   "source": [
    "# preprocess and extract features\n",
    "# kda ratio\n",
    "def process_kda(row):\n",
    "    kda = ast.literal_eval(row)\n",
    "    kill_count = len(kda)\n",
    "    return kill_count\n",
    "\n",
    "# apply function above related to kda ratio from the 'bKills' and 'rKills' column\n",
    "data['bkills'] = data['bKills'].apply(process_kda)\n",
    "data['rkills'] = data['rKills'].apply(process_kda)"
   ]
  },
  {
   "cell_type": "code",
   "execution_count": 3,
   "id": "0c06b480",
   "metadata": {
    "scrolled": true
   },
   "outputs": [
    {
     "name": "stdout",
     "output_type": "stream",
     "text": [
      "Rows with Infinity Values:\n",
      "Series([], Name: kda_diff, dtype: int64)\n",
      "\n",
      "Rows with Large Values:\n",
      "Series([], Name: kda_diff, dtype: int64)\n"
     ]
    }
   ],
   "source": [
    "data['kda_diff'] = data['bkills'] - data['rkills']\n",
    "\n",
    "# Check for infinity values in 'kda_diff'\n",
    "is_inf = np.isinf(data['kda_diff'].values)\n",
    "\n",
    "# Calculate absolute values of 'kda_diff'\n",
    "abs_diff = np.abs(data['kda_diff'].values)\n",
    "\n",
    "# Define threshold for excessively large values\n",
    "threshold = 100.0\n",
    "\n",
    "# Create boolean mask for large values\n",
    "is_large = abs_diff > threshold\n",
    "\n",
    "data_d = data['kda_diff']\n",
    "\n",
    "# Print rows with infinity values or large values\n",
    "print(\"Rows with Infinity Values:\")\n",
    "print(data_d[is_inf])\n",
    "\n",
    "print(\"\\nRows with Large Values:\")\n",
    "print(data_d[is_large])"
   ]
  },
  {
   "cell_type": "code",
   "execution_count": 4,
   "id": "64e6e93c",
   "metadata": {},
   "outputs": [
    {
     "name": "stdout",
     "output_type": "stream",
     "text": [
      "Accuracy: 0.94750656167979\n"
     ]
    },
    {
     "data": {
      "image/png": "[encoded data removed]",
      "text/plain": [
       "<Figure size 720x504 with 2 Axes>"
      ]
     },
     "metadata": {
      "needs_background": "light"
     },
     "output_type": "display_data"
    }
   ],
   "source": [
    "# splitting data to training and test data\n",
    "X = data['kda_diff'].values.reshape(-1,1)\n",
    "y = data['bResult']\n",
    "X_train, X_test, y_train, y_test = train_test_split(X, y, test_size=0.2, random_state=43)\n",
    "\n",
    "# normalizing values\n",
    "scaler = StandardScaler()\n",
    "X_train_scaled = scaler.fit_transform(X_train)\n",
    "X_test_scaled = scaler.transform(X_test)\n",
    "\n",
    "# apply logistic regression\n",
    "model = LogisticRegression()\n",
    "model.fit(X_train_scaled, y_train)\n",
    "y_pred = model.predict(X_test)\n",
    "\n",
    "# calculate accuracy and create confusion matrix\n",
    "accuracy = accuracy_score(y_test, y_pred)\n",
    "confusion = confusion_matrix(y_test, y_pred)\n",
    "\n",
    "cm_df = pd.DataFrame(confusion, index=['Actual Negative', 'Actual Positive'], columns=['Predicted Negative', 'Predicted Positive'])\n",
    "\n",
    "print(\"Accuracy:\", accuracy)\n",
    "\n",
    "# visualization of confusion matrix\n",
    "plt.figure(figsize=(10, 7))\n",
    "sns.heatmap(cm_df, annot=True, cmap='Greens', fmt='g')\n",
    "plt.title('Confusion Matrix')\n",
    "plt.show()"
   ]
  },
  {
   "cell_type": "code",
   "execution_count": 5,
   "id": "2a59d6ec",
   "metadata": {},
   "outputs": [
    {
     "name": "stdout",
     "output_type": "stream",
     "text": [
      "Correlation: 0.8530029763370982\n",
      "              precision    recall  f1-score   support\n",
      "\n",
      "           0       0.95      0.94      0.94       712\n",
      "           1       0.95      0.95      0.95       812\n",
      "\n",
      "    accuracy                           0.95      1524\n",
      "   macro avg       0.95      0.95      0.95      1524\n",
      "weighted avg       0.95      0.95      0.95      1524\n",
      "\n"
     ]
    }
   ],
   "source": [
    "print('Correlation: ' + str(data['bResult'].corr(data['kda_diff'])))\n",
    "print(classification_report(y_test, y_pred))"
   ]
  },
  {
   "cell_type": "code",
   "execution_count": null,
   "id": "8faf7fcb",
   "metadata": {},
   "outputs": [],
   "source": []
  }
 ],
 "metadata": {
  "kernelspec": {
   "display_name": "Python 3 (clean)",
   "language": "python",
   "name": "python3_clean"
  },
  "language_info": {
   "codemirror_mode": {
    "name": "ipython",
    "version": 3
   },
   "file_extension": ".py",
   "mimetype": "text/x-python",
   "name": "python",
   "nbconvert_exporter": "python",
   "pygments_lexer": "ipython3",
   "version": "3.9.5"
  }
 },
 "nbformat": 4,
 "nbformat_minor": 5
}
