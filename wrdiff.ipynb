{
 "cells": [
  {
   "cell_type": "markdown",
   "id": "7412972d",
   "metadata": {},
   "source": [
    "### Preprocessing Data"
   ]
  },
  {
   "cell_type": "markdown",
   "id": "cedcebf3",
   "metadata": {},
   "source": [
    "We will first begin by importing what we used for our EDA"
   ]
  },
  {
   "cell_type": "code",
   "execution_count": 12,
   "id": "1e3624d9",
   "metadata": {},
   "outputs": [],
   "source": [
    "import pandas as pd\n",
    "from sklearn.metrics import accuracy_score\n",
    "from sklearn.metrics import confusion_matrix\n",
    "from sklearn.model_selection import train_test_split\n",
    "from sklearn.linear_model import LogisticRegression\n",
    "from sklearn.ensemble import RandomForestClassifier\n",
    "from sklearn import datasets, linear_model\n",
    "from sklearn.metrics import mean_squared_error, r2_score\n",
    "from sklearn.metrics import classification_report\n",
    "from sklearn.preprocessing import StandardScaler\n",
    "from sklearn.ensemble import HistGradientBoostingClassifier\n",
    "import numpy as np\n",
    "import random\n",
    "import ast\n",
    "import matplotlib.pyplot as plt\n",
    "import numpy as np\n",
    "import seaborn as sns"
   ]
  },
  {
   "cell_type": "markdown",
   "id": "e5b7c25b",
   "metadata": {},
   "source": [
    "Next, we will look at some of the variables we think would be useful for determining the winner of a League of Legends match. The variables we want to look at "
   ]
  },
  {
   "cell_type": "code",
   "execution_count": 5,
   "id": "0b99671b",
   "metadata": {},
   "outputs": [],
   "source": [
    "data = pd.read_csv(\"LeagueofLegends.csv\")"
   ]
  },
  {
   "cell_type": "code",
   "execution_count": 6,
   "id": "d936791d",
   "metadata": {},
   "outputs": [],
   "source": [
    "data['wrdiff'] = pd.Series(data = None, dtype = float)\n",
    "\n",
    "# Run for all rows in the data\n",
    "for match in range(len(data)):\n",
    "    # Check for blue champions\n",
    "    color = 'blue'\n",
    "    bluewrs = []\n",
    "    # Run for each role\n",
    "    for role in ['Top', 'Jungle', 'Middle', 'ADC', 'Support']:\n",
    "        # Get the champion\n",
    "        champ = data.at[match, color + role + 'Champ']\n",
    "        # Get champion's average winrate\n",
    "        bluechampgames = data[data['blue' + role + 'Champ'] == champ]\n",
    "        redchampgames = data[data['red' + role + 'Champ'] == champ]\n",
    "        bluewins = len(bluechampgames[bluechampgames['bResult'] == 1])\n",
    "        redwins = len(redchampgames[redchampgames['rResult'] == 1])\n",
    "        champwr = (bluewins+redwins) / (len(bluechampgames) + len(redchampgames))\n",
    "        # Append champion's average winrate\n",
    "        bluewrs.append(champwr)\n",
    "    \n",
    "    # Check for red champions\n",
    "    color = 'red'\n",
    "    redwrs = []\n",
    "    for role in ['Top', 'Jungle', 'Middle', 'ADC', 'Support']:\n",
    "        # Get the champion\n",
    "        champ = data.at[match, color + role + 'Champ']\n",
    "        # Get champion's average winrate\n",
    "        bluechampgames = data[data['blue' + role + 'Champ'] == champ]\n",
    "        redchampgames = data[data['red' + role + 'Champ'] == champ]\n",
    "        bluewins = len(bluechampgames[bluechampgames['bResult'] == 1])\n",
    "        redwins = len(redchampgames[redchampgames['rResult'] == 1])\n",
    "        champwr = (bluewins+redwins) / (len(bluechampgames) + len(redchampgames))\n",
    "        # Append champion's average winrate\n",
    "        redwrs.append(champwr)\n",
    "    \n",
    "    # Append the subtracted team's averages\n",
    "    data.at[match, 'wrdiff'] = np.mean(bluewrs) - np.mean(redwrs)"
   ]
  },
  {
   "cell_type": "code",
   "execution_count": 16,
   "id": "6d4ed0dc",
   "metadata": {},
   "outputs": [
    {
     "name": "stdout",
     "output_type": "stream",
     "text": [
      "Accuracy: 0.5912073490813649\n"
     ]
    },
    {
     "data": {
      "image/png": "[encoded data removed]",
      "text/plain": [
       "<Figure size 720x504 with 2 Axes>"
      ]
     },
     "metadata": {
      "needs_background": "light"
     },
     "output_type": "display_data"
    }
   ],
   "source": [
    "random.seed(43)\n",
    "# features and target\n",
    "X = data[['wrdiff']]\n",
    "y = data['bResult']\n",
    "\n",
    "# split data into training and test sets\n",
    "X_train, X_test, y_train, y_test = train_test_split(X, y, test_size=0.2, random_state=12)\n",
    "\n",
    "# create and train the model\n",
    "model = LogisticRegression()\n",
    "model.fit(X_train, y_train)\n",
    "\n",
    "# make predictions on the test set\n",
    "y_pred = model.predict(X_test)\n",
    "\n",
    "# evaluate the model\n",
    "print(\"Accuracy:\", accuracy_score(y_test, y_pred))\n",
    "\n",
    "cm = confusion_matrix(y_test, y_pred)\n",
    "\n",
    "# Create a DataFrame from the confusion matrix\n",
    "cm_df = pd.DataFrame(cm, index=['Actual Negative', 'Actual Positive'], columns=['Predicted Negative', 'Predicted Positive'])\n",
    "\n",
    "# Visualize the confusion matrix using Seaborn's heatmap\n",
    "plt.figure(figsize=(10, 7))\n",
    "sns.heatmap(cm_df, annot=True, cmap='Blues', fmt='g')\n",
    "plt.title('Confusion Matrix')\n",
    "plt.show()"
   ]
  },
  {
   "cell_type": "code",
   "execution_count": 17,
   "id": "fa75b754",
   "metadata": {},
   "outputs": [
    {
     "name": "stdout",
     "output_type": "stream",
     "text": [
      "Correlation: 0.21763879085538634\n",
      "              precision    recall  f1-score   support\n",
      "\n",
      "           0       0.61      0.30      0.40       698\n",
      "           1       0.59      0.84      0.69       826\n",
      "\n",
      "    accuracy                           0.59      1524\n",
      "   macro avg       0.60      0.57      0.54      1524\n",
      "weighted avg       0.60      0.59      0.56      1524\n",
      "\n"
     ]
    }
   ],
   "source": [
    "print('Correlation: ' + str(data['bResult'].corr(data['wrdiff'])))\n",
    "print(classification_report(y_test, y_pred))"
   ]
  },
  {
   "cell_type": "code",
   "execution_count": 8,
   "id": "7b0230d3",
   "metadata": {},
   "outputs": [
    {
     "name": "stdout",
     "output_type": "stream",
     "text": [
      "Accuracy: 0.5190288713910761\n"
     ]
    }
   ],
   "source": [
    "random.seed(12)\n",
    "# split data into training and test sets\n",
    "X_train, X_test, y_train, y_test = train_test_split(X, y, test_size=0.2, random_state=42)\n",
    "\n",
    "# create and train the model\n",
    "model = RandomForestClassifier(n_estimators=100)\n",
    "model.fit(X_train, y_train)\n",
    "\n",
    "# make predictions on the test set\n",
    "y_pred = model.predict(X_test)\n",
    "\n",
    "# evaluate the model\n",
    "print(\"Accuracy:\", accuracy_score(y_test, y_pred))"
   ]
  },
  {
   "cell_type": "code",
   "execution_count": 9,
   "id": "dbb74cef",
   "metadata": {},
   "outputs": [
    {
     "data": {
      "image/png": "[encoded data removed]",
      "text/plain": [
       "<Figure size 720x504 with 2 Axes>"
      ]
     },
     "metadata": {
      "needs_background": "light"
     },
     "output_type": "display_data"
    }
   ],
   "source": [
    "# Generate the confusion matrix\n",
    "cm = confusion_matrix(y_test, y_pred)\n",
    "\n",
    "# Create a DataFrame from the confusion matrix\n",
    "cm_df = pd.DataFrame(cm, index=['Actual Negative', 'Actual Positive'], columns=['Predicted Negative', 'Predicted Positive'])\n",
    "\n",
    "# Visualize the confusion matrix using Seaborn's heatmap\n",
    "plt.figure(figsize=(10, 7))\n",
    "sns.heatmap(cm_df, annot=True, cmap='Blues', fmt='g')\n",
    "plt.title('Confusion Matrix')\n",
    "plt.show()"
   ]
  },
  {
   "cell_type": "code",
   "execution_count": 13,
   "id": "519e9074",
   "metadata": {},
   "outputs": [
    {
     "name": "stdout",
     "output_type": "stream",
     "text": [
      "Correlation: 0.21763879085538634\n",
      "              precision    recall  f1-score   support\n",
      "\n",
      "           0       0.47      0.50      0.49       691\n",
      "           1       0.56      0.53      0.55       833\n",
      "\n",
      "    accuracy                           0.52      1524\n",
      "   macro avg       0.52      0.52      0.52      1524\n",
      "weighted avg       0.52      0.52      0.52      1524\n",
      "\n"
     ]
    }
   ],
   "source": [
    "print('Correlation: ' + str(data['bResult'].corr(data['wrdiff'])))\n",
    "print(classification_report(y_test, y_pred))"
   ]
  },
  {
   "cell_type": "code",
   "execution_count": null,
   "id": "220a0963",
   "metadata": {},
   "outputs": [],
   "source": []
  }
 ],
 "metadata": {
  "kernelspec": {
   "display_name": "Python 3 (clean)",
   "language": "python",
   "name": "python3_clean"
  },
  "language_info": {
   "codemirror_mode": {
    "name": "ipython",
    "version": 3
   },
   "file_extension": ".py",
   "mimetype": "text/x-python",
   "name": "python",
   "nbconvert_exporter": "python",
   "pygments_lexer": "ipython3",
   "version": "3.9.5"
  }
 },
 "nbformat": 4,
 "nbformat_minor": 5
}
