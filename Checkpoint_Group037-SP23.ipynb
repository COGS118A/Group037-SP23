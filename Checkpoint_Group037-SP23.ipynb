{
 "cells": [
  {
   "attachments": {},
   "cell_type": "markdown",
   "metadata": {},
   "source": [
    "# COGS 118A - Project Checkpoint"
   ]
  },
  {
   "attachments": {},
   "cell_type": "markdown",
   "metadata": {},
   "source": [
    "# Names\n",
    "\n",
    "\n",
    "- Samuel Kweon  \n",
    "- Nicholas Azpeitia \n",
    "- Gyujin Hong"
   ]
  },
  {
   "attachments": {},
   "cell_type": "markdown",
   "metadata": {},
   "source": [
    "# Abstract \n",
    "Our goal is to use machine learning to determine the winner of a League of Legends game. The data used represents competitive League of Legneds matches from 2015 to 2017 with data taken from the NALCS, EULCS, LMS, CBLoL, and LCK. With the data, we will create a classifier that is use to classify the predicted winner of a League of Legends game. How well the model is able to predict the winner of matches not from the training data."
   ]
  },
  {
   "attachments": {},
   "cell_type": "markdown",
   "metadata": {},
   "source": [
    "# Background\n",
    "League of Legends, an online multiplayer game, has emerged as a significant area of interest for data scientists and machine learning enthusiasts due to its complex and multifaceted gameplay. Two substantial contributions have been made to this field of research by Diego Angulo Quintana and Yingshan Li, who have both utilized diverse data and machine learning models to predict the outcome of the matches.\n",
    "\n",
    "Diego Angulo Quintana's study stands out in the sense that it focuses primarily on the objectives achieved by each team as predictive parameters (https://rstudio-pubs-static.s3.amazonaws.com/533941_5ecc18a32e0b4603bd3fa2c46f05a174.html). His methodology implies that the various objectives throughout the game, such as securing Dragon or Baron Nashor, have a decisive role in determining the outcome. Quintana's research offers crucial insights into the importance of in-game objectives, serving as an informative resource for those interested in identifying the key performance indicators in a League of Legends match.\n",
    "\n",
    "On the other hand, Yingshan Li's research (https://rstudio-pubs-static.s3.amazonaws.com/912026_793d82d1630641bfad6ce05cb5c18385.html) tackles the issue from a different perspective by studying the early stage of the game. Li utilizes statistics from the first 10 minutes of ranked matches to predict match outcomes. This approach underlines the significance of early game performance in shaping the rest of the match, suggesting that strategies and actions in the initial phases can potentially affect the game's outcome. Furthermore, Li compares different machine learning models to assess their accuracy, contributing valuable information to the ongoing dialogue around the most suitable predictive algorithms for such complex tasks.\n"
   ]
  },
  {
   "attachments": {},
   "cell_type": "markdown",
   "metadata": {},
   "source": [
    "# Problem Statement\n",
    "\n",
    "The problem we are trying to solve is using data from competitive matches during the time 2015 - 2017 is if we can accurately predict the winner of a League of Legends match. The problem is quanitifiable in that our prediction will be probability based, measurable in that the game outcome can easily be observed, and repplicable in that many League of Legends games can be played. We are going to use gold difference to make the prediction. The gold difference between teams (i.e., the difference in total gold earned by each team at any given point in the match) can often indicate which team is in the lead or has the upper hand. A significant gold difference can highlight a major discrepancy in team strengths, often translating into one team having better items and thus a higher likelihood of winning. There are other variables we can take into account for better results such as Objectives or team stats. "
   ]
  },
  {
   "attachments": {},
   "cell_type": "markdown",
   "metadata": {},
   "source": [
    "# Data\n",
    "\n",
    "link/reference to obtain it\n",
    "https://www.kaggle.com/datasets/chuckephron/leagueoflegends\n",
    "\n",
    "description of the size of the dataset (# of variables, # of observations)\n",
    "57 variables and 7620 observations\n",
    "\n",
    "what an observation consists of\n",
    "A single game with many stats recorded throughout the game for each team\n",
    "\n",
    "what some critical variables are, how they are represented\n",
    "Gold and objectives taken. They are represented as arrays or nested arrays at the time each one is taken.\n",
    "\n",
    "any special handling, transformations, cleaning, etc will be needed\n",
    "The data is already cleaned, so not much will be needed."
   ]
  },
  {
   "attachments": {},
   "cell_type": "markdown",
   "metadata": {},
   "source": [
    "# Proposed Solution\n",
    "\n",
    "The solution to predicting the outcome of a League of Legends match given that there are only two outcomes, a supervised learning classifiers will work nicely. Some potential options include Logistic Regression, Decision Trees, Random Forests, Support Vector Machines (SVM), and Neural Networks. We propose the use of an Ensemble method, particularly the Random Forest classifier, for several reasons. The model will be trained on a large dataset of matches from 2015-2017. After training, the model's predictive accuracy will be evaluated using a separate test set comprising matches not included in the training data. This will provide an unbiased evaluation of the model's performance, ensuring it can generalize well to new, unseen data.While no model can guarantee 100% accuracy due to the inherent uncertainty and complexity of League of Legends matches, with the proposed approach, we should be able to create a highly reliable predictive model. This will allow us to accurately predict match outcomes based on the game data available."
   ]
  },
  {
   "attachments": {},
   "cell_type": "markdown",
   "metadata": {},
   "source": [
    "# Evaluation Metrics\n",
    "\n",
    "To quantify the performance of both the benchmark model and the solution model, we can measure their accuracy against games in the dataset that were not in the training data. The metrics would be derived through seeing if the models correctly predicted the outcome of the game and averaging the correctness over the test data."
   ]
  },
  {
   "attachments": {},
   "cell_type": "markdown",
   "metadata": {},
   "source": [
    "# Preliminary results\n",
    "\n",
    "The dataset we chose, comprising 7620 observations (games) and 57 variables (features), seems aptly suited to the task at hand. These observations capture various aspects of League of Legends gameplay, including gold difference, objectives taken, and other in-game statistics, allowing us to accurately model game progression and potential outcomes. Moreover, the data appears to be clean and well-organized, eliminating the need for extensive preprocessing or cleaning.\n",
    "\n",
    "We started by examining the various features available in the dataset. Of particular interest are variables like 'gold difference' and 'objectives taken'. We considered these to be critical indicators of game progression and team performance, directly influencing the game's outcome. In the context of a League of Legends match, a substantial gold difference can often signal which team has the advantage, while objectives taken often correlate with the winning team. Therefore, we decided to select these features for our initial model.\n",
    "\n"
   ]
  },
  {
   "attachments": {},
   "cell_type": "markdown",
   "metadata": {},
   "source": [
    "# Ethics & Privacy"
   ]
  },
  {
   "attachments": {},
   "cell_type": "markdown",
   "metadata": {},
   "source": [
    "One major issue has to do with the consent of players data. Using the data of players may expose the performance of certain players which violates their personal rights. Discrimination and Bias: The data might be used to analyze a certain group of players and inadvertently be used to discriminate against a certain group of players."
   ]
  },
  {
   "attachments": {},
   "cell_type": "markdown",
   "metadata": {},
   "source": [
    "# Team Expectations "
   ]
  },
  {
   "attachments": {},
   "cell_type": "markdown",
   "metadata": {},
   "source": [
    "Team will be communicative. \n",
    "Deadlines will be followed.\n",
    "Conflicts will be resolved via contacting the instruction staff if we are unable to resolve it internally."
   ]
  },
  {
   "attachments": {},
   "cell_type": "markdown",
   "metadata": {},
   "source": [
    "# Project Timeline Proposal"
   ]
  },
  {
   "attachments": {},
   "cell_type": "markdown",
   "metadata": {},
   "source": [
    "UPDATE THE PROPOSAL TIMELINE ACCORDING TO WHAT HAS ACTUALLY HAPPENED AND HOW IT HAS EFFECTED YOUR FUTURE PLANS\n",
    "\n",
    "| Meeting Date  | Meeting Time| Completed Before Meeting  | Discuss at Meeting |\n",
    "|---|---|---|---|\n",
    "| 5/7  |  1 PM |  Review Proposal Requirements  | Fisnish Project Proposal |\n",
    "| 5/20  | 12 PM  | Research Further | Discuss/edit proposal; Finishing up the checkpoint | \n",
    "| 5/24  |  1 PM |  Figure out what model we want to use | Start experimenting with different models | \n",
    "| 5/31  | 2 PM  | Edit, finalize, and submit checkpoint; Search for more datasets | Start measuring model accuracy|\n",
    "| 6/2  | 1 PM  | Review model results & clean up code | Start finalizing project   |\n",
    "\n"
   ]
  },
  {
   "attachments": {},
   "cell_type": "markdown",
   "metadata": {},
   "source": [
    "# Footnotes\n",
    "Linked above\n"
   ]
  },
  {
   "cell_type": "code",
   "execution_count": null,
   "metadata": {},
   "outputs": [],
   "source": []
  }
 ],
 "metadata": {
  "kernelspec": {
   "display_name": "Python 3",
   "language": "python",
   "name": "python3"
  },
  "language_info": {
   "codemirror_mode": {
    "name": "ipython",
    "version": 3
   },
   "file_extension": ".py",
   "mimetype": "text/x-python",
   "name": "python",
   "nbconvert_exporter": "python",
   "pygments_lexer": "ipython3",
   "version": "3.8.8"
  }
 },
 "nbformat": 4,
 "nbformat_minor": 2
}
