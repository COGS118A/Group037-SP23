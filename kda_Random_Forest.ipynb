{
 "cells": [
  {
   "cell_type": "code",
   "execution_count": 1,
   "id": "434260e6",
   "metadata": {},
   "outputs": [],
   "source": [
    "import pandas as pd\n",
    "from sklearn.metrics import accuracy_score, confusion_matrix\n",
    "from sklearn.model_selection import train_test_split\n",
    "from sklearn.svm import SVC\n",
    "from sklearn.ensemble import RandomForestClassifier\n",
    "from sklearn.preprocessing import StandardScaler\n",
    "from sklearn.metrics import classification_report\n",
    "import numpy as np\n",
    "import ast\n",
    "import matplotlib.pyplot as plt\n",
    "import numpy as np\n",
    "import seaborn as sns\n",
    "\n",
    "# load data\n",
    "data = pd.read_csv(\"LeagueofLegends.csv\")"
   ]
  },
  {
   "cell_type": "code",
   "execution_count": 2,
   "id": "18a7194a",
   "metadata": {},
   "outputs": [],
   "source": [
    "# preprocess and extract features\n",
    "# kda ratio\n",
    "def process_kda(row):\n",
    "    kda = ast.literal_eval(row)\n",
    "    kill_count = len(kda)\n",
    "    return kill_count\n",
    "\n",
    "# apply function above related to kda ratio from the 'bKills' and 'rKills' column\n",
    "data['bkills'] = data['bKills'].apply(process_kda)\n",
    "data['rkills'] = data['rKills'].apply(process_kda)"
   ]
  },
  {
   "cell_type": "code",
   "execution_count": 3,
   "id": "f9cf97e2",
   "metadata": {},
   "outputs": [
    {
     "data": {
      "text/plain": [
       "(Series([], Name: kda_diff, dtype: int64),\n",
       " Series([], Name: kda_diff, dtype: int64))"
      ]
     },
     "execution_count": 3,
     "metadata": {},
     "output_type": "execute_result"
    }
   ],
   "source": [
    "data['kda_diff'] = data['bkills'] - data['rkills']\n",
    "\n",
    "# checking abs or infinity values in 'kda_diff'\n",
    "is_inf = np.isinf(data['kda_diff'].values)\n",
    "abs_diff = np.abs(data['kda_diff'].values)\n",
    "\n",
    "# bool mask for larger than threshold\n",
    "threshold = 100.0\n",
    "is_large = abs_diff > threshold\n",
    "\n",
    "data_d = data['kda_diff']\n",
    "data_d[is_inf], data_d[is_large]"
   ]
  },
  {
   "cell_type": "code",
   "execution_count": 4,
   "id": "0fefbde6",
   "metadata": {},
   "outputs": [
    {
     "name": "stdout",
     "output_type": "stream",
     "text": [
      "Accuracy: 0.9488188976377953\n"
     ]
    },
    {
     "data": {
      "image/png": "[encoded data removed]",
      "text/plain": [
       "<Figure size 720x504 with 2 Axes>"
      ]
     },
     "metadata": {
      "needs_background": "light"
     },
     "output_type": "display_data"
    }
   ],
   "source": [
    "# splitting data to training and test data\n",
    "X = data['kda_diff'].values.reshape(-1,1)\n",
    "y = data['bResult']\n",
    "X_train, X_test, y_train, y_test = train_test_split(X, y, test_size=0.2, random_state=12)\n",
    "\n",
    "# normalizing values\n",
    "scaler = StandardScaler()\n",
    "X_train_scaled = scaler.fit_transform(X_train)\n",
    "X_test_scaled = scaler.transform(X_test)\n",
    "\n",
    "# apply random forest\n",
    "model = RandomForestClassifier(n_estimators=100)\n",
    "model.fit(X_train_scaled, y_train)\n",
    "\n",
    "# make predictions on the test set\n",
    "y_pred = model.predict(X_test_scaled)\n",
    "\n",
    "# calculate accuracy and create confusion matrix\n",
    "accuracy = accuracy_score(y_test, y_pred)\n",
    "confusion = confusion_matrix(y_test, y_pred)\n",
    "\n",
    "cm_df = pd.DataFrame(confusion, index=['Actual Negative', 'Actual Positive'], columns=['Predicted Negative', 'Predicted Positive'])\n",
    "\n",
    "print(\"Accuracy:\", accuracy)\n",
    "\n",
    "# visualization of confusion matrix\n",
    "plt.figure(figsize=(10, 7))\n",
    "sns.heatmap(cm_df, annot=True, cmap='Greens', fmt='g')\n",
    "plt.title('Confusion Matrix')\n",
    "plt.show()"
   ]
  },
  {
   "cell_type": "code",
   "execution_count": 6,
   "id": "3cdff817",
   "metadata": {},
   "outputs": [
    {
     "name": "stdout",
     "output_type": "stream",
     "text": [
      "Correlation: 0.8530029763370982\n",
      "              precision    recall  f1-score   support\n",
      "\n",
      "           0       0.96      0.93      0.94       698\n",
      "           1       0.94      0.96      0.95       826\n",
      "\n",
      "    accuracy                           0.95      1524\n",
      "   macro avg       0.95      0.95      0.95      1524\n",
      "weighted avg       0.95      0.95      0.95      1524\n",
      "\n"
     ]
    }
   ],
   "source": [
    "print('Correlation: ' + str(data['bResult'].corr(data['kda_diff'])))\n",
    "print(classification_report(y_test, y_pred))"
   ]
  },
  {
   "cell_type": "code",
   "execution_count": null,
   "id": "89ac6aaf",
   "metadata": {},
   "outputs": [],
   "source": []
  }
 ],
 "metadata": {
  "kernelspec": {
   "display_name": "Python 3 (clean)",
   "language": "python",
   "name": "python3_clean"
  },
  "language_info": {
   "codemirror_mode": {
    "name": "ipython",
    "version": 3
   },
   "file_extension": ".py",
   "mimetype": "text/x-python",
   "name": "python",
   "nbconvert_exporter": "python",
   "pygments_lexer": "ipython3",
   "version": "3.9.5"
  }
 },
 "nbformat": 4,
 "nbformat_minor": 5
}
