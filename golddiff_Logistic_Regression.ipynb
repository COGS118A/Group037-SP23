{
 "cells": [
  {
   "cell_type": "code",
   "execution_count": 9,
   "id": "ab071e2b",
   "metadata": {},
   "outputs": [],
   "source": [
    "import pandas as pd\n",
    "from sklearn.metrics import accuracy_score\n",
    "from sklearn.metrics import confusion_matrix\n",
    "from sklearn.model_selection import train_test_split\n",
    "from sklearn.linear_model import LogisticRegression\n",
    "from sklearn.metrics import classification_report\n",
    "from sklearn.preprocessing import StandardScaler\n",
    "from sklearn.ensemble import HistGradientBoostingClassifier\n",
    "import numpy as np\n",
    "import ast\n",
    "import matplotlib.pyplot as plt\n",
    "import numpy as np\n",
    "import seaborn as sns\n",
    "\n",
    "\n",
    "# load data\n",
    "data = pd.read_csv(\"LeagueofLegends.csv\")\n",
    "\n",
    "# preprocess and extract features \n",
    "# gold difference \n",
    "def process_gold_diff(gold_diff_str):\n",
    "    gold_diff = ast.literal_eval(gold_diff_str)\n",
    "    final_gold_diff = gold_diff[-1]\n",
    "    avg_gold_diff = np.mean(gold_diff)\n",
    "    std_dev_gold_diff = np.std(gold_diff)\n",
    "    return final_gold_diff, avg_gold_diff, std_dev_gold_diff\n",
    "\n",
    "# apply function above related to gold difference from the 'golddiff' column\n",
    "data['final_gold_diff'], data['avg_gold_diff'], data['std_dev_gold_diff'] = zip(*data['golddiff'].map(process_gold_diff))\n"
   ]
  },
  {
   "cell_type": "code",
   "execution_count": 3,
   "id": "a0e878c0",
   "metadata": {},
   "outputs": [],
   "source": [
    "# preprocess and extract features\n",
    "# kda ratio\n",
    "def process_kda(row):\n",
    "    kda = ast.literal_eval(row)\n",
    "    kill_count = len(kda)\n",
    "    return kill_count\n",
    "\n",
    "def process_kda_diff(b_kda, r_kda):\n",
    "    bk = b_kda.apply(process_kda)\n",
    "    rk = r_kda.apply(process_kda)\n",
    "    kda_diff = bk / rk\n",
    "    return kda_diff\n",
    "\n",
    "# apply function above related to kda ratio from the 'bKills' and 'rKills' column\n",
    "data['kda_ratio'] = process_kda_diff(data['bKills'], data['rKills'])"
   ]
  },
  {
   "cell_type": "code",
   "execution_count": 4,
   "id": "8de666af",
   "metadata": {},
   "outputs": [
    {
     "name": "stdout",
     "output_type": "stream",
     "text": [
      "Accuracy: 0.9678477690288714\n"
     ]
    },
    {
     "data": {
      "image/png": "[encoded data removed]",
      "text/plain": [
       "<Figure size 720x504 with 2 Axes>"
      ]
     },
     "metadata": {
      "needs_background": "light"
     },
     "output_type": "display_data"
    }
   ],
   "source": [
    "# features and target\n",
    "X = data[['final_gold_diff', 'avg_gold_diff', 'std_dev_gold_diff']]\n",
    "y = data['bResult']\n",
    "\n",
    "# split data into training and test sets\n",
    "X_train, X_test, y_train, y_test = train_test_split(X, y, test_size=0.2, random_state=43)\n",
    "\n",
    "# create and train the model\n",
    "model = LogisticRegression()\n",
    "model.fit(X_train, y_train)\n",
    "\n",
    "# make predictions on the test set\n",
    "y_pred = model.predict(X_test)\n",
    "\n",
    "# evaluate the model\n",
    "print(\"Accuracy:\", accuracy_score(y_test, y_pred))\n",
    "\n",
    "cm = confusion_matrix(y_test, y_pred)\n",
    "\n",
    "# Create a DataFrame from the confusion matrix\n",
    "cm_df = pd.DataFrame(cm, index=['Actual Negative', 'Actual Positive'], columns=['Predicted Negative', 'Predicted Positive'])\n",
    "\n",
    "# Visualize the confusion matrix using Seaborn's heatmap\n",
    "plt.figure(figsize=(10, 7))\n",
    "sns.heatmap(cm_df, annot=True, cmap='Blues', fmt='g')\n",
    "plt.title('Confusion Matrix')\n",
    "plt.show()"
   ]
  },
  {
   "cell_type": "code",
   "execution_count": 15,
   "id": "c0e7a68a",
   "metadata": {},
   "outputs": [
    {
     "name": "stdout",
     "output_type": "stream",
     "text": [
      "Correlation: 0.7614916860111413\n",
      "              precision    recall  f1-score   support\n",
      "\n",
      "           0       0.96      0.97      0.97       712\n",
      "           1       0.98      0.96      0.97       812\n",
      "\n",
      "    accuracy                           0.97      1524\n",
      "   macro avg       0.97      0.97      0.97      1524\n",
      "weighted avg       0.97      0.97      0.97      1524\n",
      "\n"
     ]
    }
   ],
   "source": [
    "print('Correlation: ' + str(data['bResult'].corr(data['avg_gold_diff'])))\n",
    "print(classification_report(y_test, y_pred))"
   ]
  },
  {
   "cell_type": "code",
   "execution_count": null,
   "id": "990c33ca",
   "metadata": {},
   "outputs": [],
   "source": []
  }
 ],
 "metadata": {
  "kernelspec": {
   "display_name": "Python 3 (ipykernel)",
   "language": "python",
   "name": "python3"
  },
  "language_info": {
   "codemirror_mode": {
    "name": "ipython",
    "version": 3
   },
   "file_extension": ".py",
   "mimetype": "text/x-python",
   "name": "python",
   "nbconvert_exporter": "python",
   "pygments_lexer": "ipython3",
   "version": "3.9.5"
  }
 },
 "nbformat": 4,
 "nbformat_minor": 5
}
